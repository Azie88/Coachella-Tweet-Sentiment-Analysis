{
 "cells": [
  {
   "cell_type": "markdown",
   "metadata": {},
   "source": [
    "[![Open in Colab](https://colab.research.google.com/assets/colab-badge.svg)](https://colab.research.google.com/github/Azie88/Coachella-Tweet-Sentiment-Analysis/blob/main/Sentiment_Analysis_Coachella.ipynb)\n"
   ]
  },
  {
   "cell_type": "markdown",
   "metadata": {
    "id": "2hVz1UvpT6nV"
   },
   "source": [
    "# Sentiment Analysis Using Huggingface"
   ]
  },
  {
   "cell_type": "markdown",
   "metadata": {
    "id": "aXfft8TKT6na"
   },
   "source": [
    "Unstructured Data - Think video, audio, images, and big chunks of text. It's anything that doesn't neatly fit into a database or a spreadsheet in neat rows and columns. It's the messy kind of data that humans generate as easily as we breathe.\n",
    "\n",
    "What's Deep Learning? - Just machine learning based on artificial neural networks in which multiple layers of processing are used to extract progressively higher level features from data.\n",
    "\n",
    "In this project, we will fine-tune pre-trained Deep Learning models from HuggingFace on a new dataset to adapt the models to the task that we want to solve, then create an app to use the models and deploy the app on the HuggingFace platform."
   ]
  },
  {
   "cell_type": "markdown",
   "metadata": {
    "id": "jtOheklvUGWA"
   },
   "source": [
    "### Install Libraries and Packages"
   ]
  },
  {
   "cell_type": "code",
   "execution_count": null,
   "metadata": {
    "colab": {
     "base_uri": "https://localhost:8080/"
    },
    "executionInfo": {
     "elapsed": 115520,
     "status": "ok",
     "timestamp": 1744102411271,
     "user": {
      "displayName": "andrew obando",
      "userId": "17747211217167821217"
     },
     "user_tz": -180
    },
    "id": "Oco0avIgUpE3",
    "outputId": "941d9e44-e598-47d6-a324-58267081cb7a"
   },
   "outputs": [],
   "source": [
    "!pip install datasets\n",
    "!pip install evaluate\n",
    "!pip install transformers[torch]\n",
    "!pip install accelerate -U"
   ]
  },
  {
   "cell_type": "markdown",
   "metadata": {
    "id": "J52r5-SLUScL"
   },
   "source": [
    "### Import Libraries and Packages"
   ]
  },
  {
   "cell_type": "code",
   "execution_count": null,
   "metadata": {
    "executionInfo": {
     "elapsed": 30730,
     "status": "ok",
     "timestamp": 1744102442005,
     "user": {
      "displayName": "andrew obando",
      "userId": "17747211217167821217"
     },
     "user_tz": -180
    },
    "id": "nmFBqg9YUTPS"
   },
   "outputs": [],
   "source": [
    "#System and data handling\n",
    "import os\n",
    "import re\n",
    "import warnings\n",
    "import pandas as pd\n",
    "import numpy as np\n",
    "\n",
    "#Data Analysis & Preparation\n",
    "from evaluate import load\n",
    "from collections import Counter\n",
    "from datasets import load_dataset\n",
    "\n",
    "#Scikit-Learn\n",
    "from sklearn.model_selection import train_test_split\n",
    "from sklearn.utils.class_weight import compute_class_weight\n",
    "\n",
    "#Google Drive\n",
    "from google.colab import drive\n",
    "\n",
    "#Visualization\n",
    "import matplotlib.pyplot as plt\n",
    "from wordcloud import WordCloud\n",
    "\n",
    "#Transformers\n",
    "from transformers import AutoTokenizer, AutoConfig, AutoModelForSequenceClassification, TrainingArguments, Trainer, DataCollatorWithPadding, TFAutoModelForSequenceClassification\n",
    "\n",
    "#Scores\n",
    "from scipy.special import softmax\n",
    "\n",
    "# Deep learning\n",
    "import torch\n",
    "from torch import nn\n",
    "\n",
    "#Huggingface\n",
    "from huggingface_hub import notebook_login"
   ]
  },
  {
   "cell_type": "markdown",
   "metadata": {
    "id": "G4E5M3fpYrVH"
   },
   "source": [
    "### Setup"
   ]
  },
  {
   "cell_type": "code",
   "execution_count": null,
   "metadata": {
    "executionInfo": {
     "elapsed": 38,
     "status": "ok",
     "timestamp": 1744102442010,
     "user": {
      "displayName": "andrew obando",
      "userId": "17747211217167821217"
     },
     "user_tz": -180
    },
    "id": "j0kcFPH_YvOO"
   },
   "outputs": [],
   "source": [
    "# Set a fixed random seed for PyTorch on CPU\n",
    "torch.manual_seed(42)\n",
    "\n",
    "# Control the seed for individual GPU operations (optional)\n",
    "if torch.cuda.is_available:\n",
    "  torch.backends.cudnn.deterministic = True\n",
    "  torch.backends.cudnn.benchmark = False\n",
    "  torch.cuda.manual_seed_all(42)\n"
   ]
  },
  {
   "cell_type": "code",
   "execution_count": null,
   "metadata": {
    "colab": {
     "base_uri": "https://localhost:8080/"
    },
    "executionInfo": {
     "elapsed": 47257,
     "status": "ok",
     "timestamp": 1744102489231,
     "user": {
      "displayName": "andrew obando",
      "userId": "17747211217167821217"
     },
     "user_tz": -180
    },
    "id": "9oFJy-I4Y3qt",
    "outputId": "fdec089a-41a3-42ae-a1e9-c0735fbfefb3"
   },
   "outputs": [],
   "source": [
    "# Connect to your google drive\n",
    "\n",
    "drive.mount('/content/drive')"
   ]
  },
  {
   "cell_type": "code",
   "execution_count": null,
   "metadata": {
    "executionInfo": {
     "elapsed": 4,
     "status": "ok",
     "timestamp": 1744102489232,
     "user": {
      "displayName": "andrew obando",
      "userId": "17747211217167821217"
     },
     "user_tz": -180
    },
    "id": "7_4WTHvgY9IZ"
   },
   "outputs": [],
   "source": [
    "# Set CUDA_LAUNCH_BLOCKING for debugging\n",
    "os.environ[\"CUDA_LAUNCH_BLOCKING\"] = \"1\""
   ]
  },
  {
   "cell_type": "markdown",
   "metadata": {
    "id": "YrwE2UYhBO1I"
   },
   "source": [
    "### Data Loading"
   ]
  },
  {
   "cell_type": "code",
   "execution_count": null,
   "metadata": {
    "executionInfo": {
     "elapsed": 1263,
     "status": "ok",
     "timestamp": 1744102490493,
     "user": {
      "displayName": "andrew obando",
      "userId": "17747211217167821217"
     },
     "user_tz": -180
    },
    "id": "2nDHMDFpBPhh"
   },
   "outputs": [],
   "source": [
    "df = pd.read_csv('/content/drive/MyDrive/Sentiment Analysis NLP/Dataset/Coachella-2015-2-DFE.csv', encoding='latin-1')"
   ]
  },
  {
   "cell_type": "code",
   "execution_count": null,
   "metadata": {
    "colab": {
     "base_uri": "https://localhost:8080/",
     "height": 380
    },
    "executionInfo": {
     "elapsed": 14,
     "status": "ok",
     "timestamp": 1744102490510,
     "user": {
      "displayName": "andrew obando",
      "userId": "17747211217167821217"
     },
     "user_tz": -180
    },
    "id": "e2oFzsWqBck1",
    "outputId": "3646ab2d-62c0-48e9-e2c6-079ac3c6c7a8"
   },
   "outputs": [],
   "source": [
    "#look at first 10 rows in train data\n",
    "df.tail()"
   ]
  },
  {
   "cell_type": "code",
   "execution_count": null,
   "metadata": {
    "colab": {
     "base_uri": "https://localhost:8080/",
     "height": 363
    },
    "executionInfo": {
     "elapsed": 92,
     "status": "ok",
     "timestamp": 1744102490605,
     "user": {
      "displayName": "andrew obando",
      "userId": "17747211217167821217"
     },
     "user_tz": -180
    },
    "id": "PVPYsuV9Cvoa",
    "outputId": "3c38f7a4-dadf-4f04-ccc4-ff2c144d5db9"
   },
   "outputs": [],
   "source": [
    "df = df.drop(columns=['coachella_yn', 'name', 'retweet_count', 'tweet_coord', 'tweet_id', 'user_timezone','tweet_location', 'tweet_created'])\n",
    "df.head(10)"
   ]
  },
  {
   "cell_type": "code",
   "execution_count": null,
   "metadata": {
    "colab": {
     "base_uri": "https://localhost:8080/"
    },
    "executionInfo": {
     "elapsed": 69,
     "status": "ok",
     "timestamp": 1744102490678,
     "user": {
      "displayName": "andrew obando",
      "userId": "17747211217167821217"
     },
     "user_tz": -180
    },
    "id": "ZhFnLYnrD3I8",
    "outputId": "523fdf29-aaaf-4830-a442-c451691e7e40"
   },
   "outputs": [],
   "source": [
    "df.shape"
   ]
  },
  {
   "cell_type": "code",
   "execution_count": null,
   "metadata": {
    "colab": {
     "base_uri": "https://localhost:8080/",
     "height": 147
    },
    "executionInfo": {
     "elapsed": 17,
     "status": "ok",
     "timestamp": 1744102490681,
     "user": {
      "displayName": "andrew obando",
      "userId": "17747211217167821217"
     },
     "user_tz": -180
    },
    "id": "cL24O4aID6wG",
    "outputId": "d4da6fe2-3f7d-401a-99ca-87b80ca2be06"
   },
   "outputs": [],
   "source": [
    "df.dtypes"
   ]
  },
  {
   "cell_type": "code",
   "execution_count": null,
   "metadata": {
    "colab": {
     "base_uri": "https://localhost:8080/",
     "height": 175
    },
    "executionInfo": {
     "elapsed": 87,
     "status": "ok",
     "timestamp": 1744102490762,
     "user": {
      "displayName": "andrew obando",
      "userId": "17747211217167821217"
     },
     "user_tz": -180
    },
    "id": "RjJBgV5cD-3B",
    "outputId": "d5db3b0a-48c2-4b31-8197-b3ed507664cd"
   },
   "outputs": [],
   "source": [
    "df.describe()"
   ]
  },
  {
   "cell_type": "code",
   "execution_count": null,
   "metadata": {
    "colab": {
     "base_uri": "https://localhost:8080/",
     "height": 147
    },
    "executionInfo": {
     "elapsed": 17,
     "status": "ok",
     "timestamp": 1744102490784,
     "user": {
      "displayName": "andrew obando",
      "userId": "17747211217167821217"
     },
     "user_tz": -180
    },
    "id": "E0ybs8fXEcrd",
    "outputId": "7765e801-68f6-41ce-d697-50dca09ca519"
   },
   "outputs": [],
   "source": [
    "df.isna().sum()"
   ]
  },
  {
   "cell_type": "code",
   "execution_count": null,
   "metadata": {
    "executionInfo": {
     "elapsed": 89,
     "status": "ok",
     "timestamp": 1744102491049,
     "user": {
      "displayName": "andrew obando",
      "userId": "17747211217167821217"
     },
     "user_tz": -180
    },
    "id": "PPB_OMzHWRHK"
   },
   "outputs": [],
   "source": [
    "df.rename(columns={'coachella_sentiment': 'label'}, inplace=True)"
   ]
  },
  {
   "cell_type": "code",
   "execution_count": null,
   "metadata": {
    "colab": {
     "base_uri": "https://localhost:8080/",
     "height": 241
    },
    "executionInfo": {
     "elapsed": 10,
     "status": "ok",
     "timestamp": 1744102491062,
     "user": {
      "displayName": "andrew obando",
      "userId": "17747211217167821217"
     },
     "user_tz": -180
    },
    "id": "uDa67udiFYcS",
    "outputId": "ac92d33a-45ba-41cd-f218-e5e74d1664f1"
   },
   "outputs": [],
   "source": [
    "df.label.value_counts()"
   ]
  },
  {
   "cell_type": "code",
   "execution_count": null,
   "metadata": {
    "colab": {
     "base_uri": "https://localhost:8080/",
     "height": 398
    },
    "executionInfo": {
     "elapsed": 102,
     "status": "ok",
     "timestamp": 1744102491167,
     "user": {
      "displayName": "andrew obando",
      "userId": "17747211217167821217"
     },
     "user_tz": -180
    },
    "id": "WL9ikdM2Fjzb",
    "outputId": "1a550d29-22c0-4f51-c101-87502a56643a"
   },
   "outputs": [],
   "source": [
    "df.text.sample(10)"
   ]
  },
  {
   "cell_type": "markdown",
   "metadata": {
    "id": "XefSl9-fFvfu"
   },
   "source": [
    "## Data Preparation\n",
    "\n",
    "1. Remove rows with *'can't tell'* sentiment values.\n",
    "2. Clean *safe-text* column of Twitter Handles, HTML characters, URLs and other non alphabetic characters. Text is inconsistent and may affect model performance.\n",
    "\n"
   ]
  },
  {
   "cell_type": "code",
   "execution_count": null,
   "metadata": {
    "executionInfo": {
     "elapsed": 8,
     "status": "ok",
     "timestamp": 1744102491180,
     "user": {
      "displayName": "andrew obando",
      "userId": "17747211217167821217"
     },
     "user_tz": -180
    },
    "id": "Gz2WIOpTGa6p"
   },
   "outputs": [],
   "source": [
    "df = df[df['label'] != 'cant tell']"
   ]
  },
  {
   "cell_type": "code",
   "execution_count": null,
   "metadata": {
    "colab": {
     "base_uri": "https://localhost:8080/",
     "height": 209
    },
    "executionInfo": {
     "elapsed": 34,
     "status": "ok",
     "timestamp": 1744102491221,
     "user": {
      "displayName": "andrew obando",
      "userId": "17747211217167821217"
     },
     "user_tz": -180
    },
    "id": "5o8sCP3MIJ5c",
    "outputId": "13ba761e-746d-4521-c7a3-f8a6e9e760bb"
   },
   "outputs": [],
   "source": [
    "df.label.value_counts()"
   ]
  },
  {
   "cell_type": "code",
   "execution_count": null,
   "metadata": {
    "executionInfo": {
     "elapsed": 21,
     "status": "ok",
     "timestamp": 1744102491243,
     "user": {
      "displayName": "andrew obando",
      "userId": "17747211217167821217"
     },
     "user_tz": -180
    },
    "id": "g4XkToO6J1Dn"
   },
   "outputs": [],
   "source": [
    "def clean_text(text):\n",
    "    # Convert text to lower case\n",
    "    text = text.lower()\n",
    "\n",
    "    # Remove URLs\n",
    "    text = re.sub(r'http\\S+|www\\S+|https\\S+', '', text, flags=re.MULTILINE)\n",
    "\n",
    "    # Remove tweet mentions\n",
    "    text = re.sub(r'<user>', '', text)\n",
    "    text = re.sub(r'<url>', '', text)\n",
    "\n",
    "    # Remove special characters\n",
    "    text = re.sub(r'[^a-zA-Z\\s]', '', text)\n",
    "\n",
    "    # Replace all whitespace characters with a single space\n",
    "    text = re.sub(r'\\s+', ' ', text)\n",
    "\n",
    "    # Remove leading and trailing whitespace\n",
    "    text = text.strip()\n",
    "\n",
    "    return text"
   ]
  },
  {
   "cell_type": "code",
   "execution_count": null,
   "metadata": {
    "executionInfo": {
     "elapsed": 38,
     "status": "ok",
     "timestamp": 1744102491301,
     "user": {
      "displayName": "andrew obando",
      "userId": "17747211217167821217"
     },
     "user_tz": -180
    },
    "id": "Agd8M9baKlWk"
   },
   "outputs": [],
   "source": [
    "# Apply the clean_text function to the 'safe_text' column\n",
    "df['text'] = df.text.apply(clean_text)"
   ]
  },
  {
   "cell_type": "code",
   "execution_count": null,
   "metadata": {
    "colab": {
     "base_uri": "https://localhost:8080/",
     "height": 363
    },
    "executionInfo": {
     "elapsed": 6,
     "status": "ok",
     "timestamp": 1744102491309,
     "user": {
      "displayName": "andrew obando",
      "userId": "17747211217167821217"
     },
     "user_tz": -180
    },
    "id": "HoaJHEboKsfH",
    "outputId": "351ba4d8-577f-402c-ab6b-6688a49e21be"
   },
   "outputs": [],
   "source": [
    "df.sample(10)"
   ]
  },
  {
   "cell_type": "code",
   "execution_count": null,
   "metadata": {
    "colab": {
     "base_uri": "https://localhost:8080/",
     "height": 209
    },
    "executionInfo": {
     "elapsed": 14,
     "status": "ok",
     "timestamp": 1744102491324,
     "user": {
      "displayName": "andrew obando",
      "userId": "17747211217167821217"
     },
     "user_tz": -180
    },
    "id": "DtwFzEkNMrwd",
    "outputId": "59039188-9962-49c0-9149-8e759a0292c8"
   },
   "outputs": [],
   "source": [
    "df.label.value_counts()"
   ]
  },
  {
   "cell_type": "code",
   "execution_count": null,
   "metadata": {
    "executionInfo": {
     "elapsed": 5,
     "status": "ok",
     "timestamp": 1744102491331,
     "user": {
      "displayName": "andrew obando",
      "userId": "17747211217167821217"
     },
     "user_tz": -180
    },
    "id": "rDpJT9UfN0GV"
   },
   "outputs": [],
   "source": [
    "sentiment_mapping = {'positive': 1, 'neutral': 0, 'negative': -1}\n",
    "\n",
    "# Map the sentiment labels to numerical values\n",
    "df['label'] = df['label'].map(sentiment_mapping)"
   ]
  },
  {
   "cell_type": "code",
   "execution_count": null,
   "metadata": {
    "colab": {
     "base_uri": "https://localhost:8080/",
     "height": 209
    },
    "executionInfo": {
     "elapsed": 21,
     "status": "ok",
     "timestamp": 1744102491355,
     "user": {
      "displayName": "andrew obando",
      "userId": "17747211217167821217"
     },
     "user_tz": -180
    },
    "id": "DUU_aqXSN6KX",
    "outputId": "f4843453-7530-4c7d-d4e7-b6f1cc9f0840"
   },
   "outputs": [],
   "source": [
    "df.label.value_counts()"
   ]
  },
  {
   "cell_type": "markdown",
   "metadata": {
    "id": "IqQxxF1DNQmG"
   },
   "source": [
    "### Exploratory Data Analysis"
   ]
  },
  {
   "cell_type": "code",
   "execution_count": null,
   "metadata": {
    "colab": {
     "base_uri": "https://localhost:8080/",
     "height": 499
    },
    "executionInfo": {
     "elapsed": 225,
     "status": "ok",
     "timestamp": 1744102491583,
     "user": {
      "displayName": "andrew obando",
      "userId": "17747211217167821217"
     },
     "user_tz": -180
    },
    "id": "imF3izO_NRDu",
    "outputId": "2befa992-510d-4a3c-9c73-5a196ef22e11"
   },
   "outputs": [],
   "source": [
    "# pie chart wth 'labels' column\n",
    "plt.figure(figsize=(6,6))\n",
    "explode=0.1,0\n",
    "df.label.value_counts().plot.pie(autopct='%1.2f%%',labels=['Positive','Neutral','Negative'])\n",
    "plt.legend(bbox_to_anchor=(1.5,1))\n",
    "plt.show()"
   ]
  },
  {
   "cell_type": "code",
   "execution_count": null,
   "metadata": {
    "colab": {
     "base_uri": "https://localhost:8080/",
     "height": 542
    },
    "executionInfo": {
     "elapsed": 1550,
     "status": "ok",
     "timestamp": 1744102493135,
     "user": {
      "displayName": "andrew obando",
      "userId": "17747211217167821217"
     },
     "user_tz": -180
    },
    "id": "GpivfwHGOG6_",
    "outputId": "30a28858-7131-492f-f467-ade6c27140dd"
   },
   "outputs": [],
   "source": [
    "# Word Cloud\n",
    "all_data = df['text'].to_string()\n",
    "wordcloud = WordCloud().generate(all_data)\n",
    "plt.figure(figsize=(12,8))\n",
    "plt.imshow(wordcloud,interpolation='bilinear')\n",
    "plt.title('Most Common Words')\n",
    "plt.axis(\"off\")"
   ]
  },
  {
   "cell_type": "code",
   "execution_count": null,
   "metadata": {
    "colab": {
     "base_uri": "https://localhost:8080/",
     "height": 676
    },
    "executionInfo": {
     "elapsed": 119,
     "status": "ok",
     "timestamp": 1744102493258,
     "user": {
      "displayName": "andrew obando",
      "userId": "17747211217167821217"
     },
     "user_tz": -180
    },
    "id": "IaIvO40zOWkf",
    "outputId": "0370494a-e9bf-4aca-f797-d9cc49168db4"
   },
   "outputs": [],
   "source": [
    "# Word Count\n",
    "temp_list = df['text'].apply(lambda x:str(x).split())\n",
    "top = Counter([item for sublist in temp_list for item in sublist])\n",
    "temp = pd.DataFrame(top.most_common(20))\n",
    "temp.columns = ['Common_words','count']\n",
    "temp.style.background_gradient(cmap='Blues')"
   ]
  },
  {
   "cell_type": "code",
   "execution_count": null,
   "metadata": {
    "colab": {
     "base_uri": "https://localhost:8080/",
     "height": 962
    },
    "executionInfo": {
     "elapsed": 19,
     "status": "ok",
     "timestamp": 1744102493260,
     "user": {
      "displayName": "andrew obando",
      "userId": "17747211217167821217"
     },
     "user_tz": -180
    },
    "id": "-l04fg4lQPyd",
    "outputId": "c3a44532-5bef-4178-a64f-a2b9b8987480"
   },
   "outputs": [],
   "source": [
    "text_lengths = df['text'].str.split().str.len()\n",
    "text_lengths.value_counts().sort_values(ascending=False)"
   ]
  },
  {
   "cell_type": "code",
   "execution_count": null,
   "metadata": {
    "colab": {
     "base_uri": "https://localhost:8080/",
     "height": 564
    },
    "executionInfo": {
     "elapsed": 129,
     "status": "ok",
     "timestamp": 1744102493384,
     "user": {
      "displayName": "andrew obando",
      "userId": "17747211217167821217"
     },
     "user_tz": -180
    },
    "id": "pAncVsx4QmaP",
    "outputId": "8d86ccca-9c7f-44e8-e6b0-66568a9564df"
   },
   "outputs": [],
   "source": [
    "# Calculate the average\n",
    "average_length = np.mean(text_lengths)\n",
    "\n",
    "# Create a figure and axis\n",
    "fig, ax = plt.subplots(figsize=(12, 6))\n",
    "\n",
    "# Using plt.hist to create a histogram with Matplotlib\n",
    "ax.hist(text_lengths, bins=20, color=\"blue\", edgecolor=\"black\", alpha=0.7)\n",
    "\n",
    "# Add average line\n",
    "ax.axvline(average_length, color='red', linestyle='dashed', linewidth=2, label=f'Average: {average_length:.2f}')\n",
    "\n",
    "ax.set_title('Histogram of Tweet Lengths')\n",
    "ax.set_xlabel('Tweet Length')\n",
    "ax.set_ylabel('Count')\n",
    "\n",
    "# Display the plot\n",
    "plt.show()"
   ]
  },
  {
   "cell_type": "markdown",
   "metadata": {
    "id": "XaGevQfeQx_x"
   },
   "source": [
    "### Train Test Split"
   ]
  },
  {
   "cell_type": "code",
   "execution_count": null,
   "metadata": {
    "executionInfo": {
     "elapsed": 4,
     "status": "ok",
     "timestamp": 1744102493390,
     "user": {
      "displayName": "andrew obando",
      "userId": "17747211217167821217"
     },
     "user_tz": -180
    },
    "id": "POB_ZWTIQyjD"
   },
   "outputs": [],
   "source": [
    "# Split the train data => {train, eval}\n",
    "train, eval = train_test_split(df, test_size=0.2, random_state=42, stratify=df['label'])"
   ]
  },
  {
   "cell_type": "code",
   "execution_count": null,
   "metadata": {
    "colab": {
     "base_uri": "https://localhost:8080/",
     "height": 206
    },
    "executionInfo": {
     "elapsed": 13,
     "status": "ok",
     "timestamp": 1744102493404,
     "user": {
      "displayName": "andrew obando",
      "userId": "17747211217167821217"
     },
     "user_tz": -180
    },
    "id": "ln-YZNY4RAbr",
    "outputId": "cfd23ee7-9df5-474b-ab2d-8f29487a42d2"
   },
   "outputs": [],
   "source": [
    "train.head()"
   ]
  },
  {
   "cell_type": "code",
   "execution_count": null,
   "metadata": {
    "colab": {
     "base_uri": "https://localhost:8080/",
     "height": 206
    },
    "executionInfo": {
     "elapsed": 20,
     "status": "ok",
     "timestamp": 1744102493425,
     "user": {
      "displayName": "andrew obando",
      "userId": "17747211217167821217"
     },
     "user_tz": -180
    },
    "id": "BqmKKD89RZjW",
    "outputId": "23c92e27-7140-43ff-d246-0746ea98a207"
   },
   "outputs": [],
   "source": [
    "eval.head()"
   ]
  },
  {
   "cell_type": "code",
   "execution_count": null,
   "metadata": {
    "colab": {
     "base_uri": "https://localhost:8080/"
    },
    "executionInfo": {
     "elapsed": 23,
     "status": "ok",
     "timestamp": 1744102493450,
     "user": {
      "displayName": "andrew obando",
      "userId": "17747211217167821217"
     },
     "user_tz": -180
    },
    "id": "FZX__VJYRgdt",
    "outputId": "592cf6fd-a040-4303-f5ab-88cbf4bcd2cc"
   },
   "outputs": [],
   "source": [
    "print(f\"new dataframe shapes: train is {train.shape}, eval is {eval.shape}\")"
   ]
  },
  {
   "cell_type": "code",
   "execution_count": null,
   "metadata": {
    "executionInfo": {
     "elapsed": 137,
     "status": "ok",
     "timestamp": 1744102493589,
     "user": {
      "displayName": "andrew obando",
      "userId": "17747211217167821217"
     },
     "user_tz": -180
    },
    "id": "g650UxoRRkfC"
   },
   "outputs": [],
   "source": [
    "# Save split subsets\n",
    "train.to_csv(\"/content/drive/MyDrive/Sentiment Analysis NLP/Dataset/train_subset.csv\", index=False)\n",
    "eval.to_csv(\"/content/drive/MyDrive/Sentiment Analysis NLP/Dataset/eval_subset.csv\", index=False)"
   ]
  },
  {
   "cell_type": "code",
   "execution_count": null,
   "metadata": {
    "colab": {
     "base_uri": "https://localhost:8080/",
     "height": 81,
     "referenced_widgets": [
      "620e66d76a9a4ca1a64a7f0abb292786",
      "5cba22f8b1b143f0b00fe4914a9a9bb9",
      "16aa27aeb06c4bb19827594058364746",
      "0154678db0024eda978109b108251aa3",
      "28a51f5ae3394bedb051c0c37606cc8f",
      "959a95c771e34ce09615d29e3f9bfaec",
      "b2b07effbcbe429390dd082884bae812",
      "f85e023ee0164076a85a71115f8a3609",
      "ccfa94367d2543fdbcbf98437c358671",
      "966b54a4b02d4e52a1b825ef455a982e",
      "5c04764825c1402baa106cce1d48ac6a",
      "d3db336df3c64984888997cbdc881264",
      "80154a601a6f4793bbc3859cee5e77ad",
      "12c1b69804574805a3f5c5eee4827bb9",
      "366d51834de7491fbefa23879d749a19",
      "13ea0173cf034a62ba1725977215f853",
      "8e16f10636bc43c68ecb246a4bacecc8",
      "47c1e58e9ec04617b46c438dbe8e8602",
      "04c313ae6b734008b4dcc2b178ebd745",
      "c86c301aed644b38a7f39979d8677dc7",
      "8a550cd2117c43ea964cff27446d2517",
      "76b753cc0f844f9ba5aee8b746d3c7fd"
     ]
    },
    "executionInfo": {
     "elapsed": 82,
     "status": "ok",
     "timestamp": 1744102493673,
     "user": {
      "displayName": "andrew obando",
      "userId": "17747211217167821217"
     },
     "user_tz": -180
    },
    "id": "Q6_CiMFDR_3O",
    "outputId": "cafc4f7c-5823-4e18-9398-4450acaf35af"
   },
   "outputs": [],
   "source": [
    "# Load split subsets\n",
    "\n",
    "dataset = load_dataset('csv',\n",
    "                        data_files={'train': '/content/drive/MyDrive/Sentiment Analysis NLP/Dataset/train_subset.csv',\n",
    "                        'eval': '/content/drive/MyDrive/Sentiment Analysis NLP/Dataset/eval_subset.csv'}, encoding = \"ISO-8859-1\")"
   ]
  },
  {
   "cell_type": "markdown",
   "metadata": {
    "id": "yNIHOcLzSjx6"
   },
   "source": [
    "## Model Fine Tuning and Training"
   ]
  },
  {
   "cell_type": "code",
   "execution_count": null,
   "metadata": {
    "colab": {
     "base_uri": "https://localhost:8080/",
     "height": 17,
     "referenced_widgets": [
      "44b992a1838740928def8c064c0f008d",
      "b364c011d5de4c61851e79def80862cb",
      "1e0ca4a665ae40019d940fd180db355d",
      "48e69467eaf84c418ae90dcccdb4de1e",
      "1a127cd0bcf44ef2ba47e9239f201cc7",
      "b7ddc3902a914851a701d0d62ddd6826",
      "75ca86e6040b454eb30be0e8d0e6c0c9",
      "f421db02c56448cf8f1a98ee53cb7b13",
      "c2fbb45a438c4f5bbd116ea295b7d392",
      "d1a6676f49b2427c988d35658a379c2f",
      "3f0a3997a3f34d1984fd9f32f702cbb7",
      "edcb14dd229e4ee1aa7952ee80af7973",
      "64858b2b232a45da8b7e1802397be3f3",
      "56ef8da33fdc41819db2ed02db78e4ff",
      "0f10817ba4a944dd8a714995e0615c96",
      "5fa012df1faf4f058565cb43e5f44f83",
      "80f1fe5c377d4a85b121e3b67663c51b",
      "4b3570fbde9a47d88afd21b8299b75dd",
      "2aadcfdd20b3459fa6cfdbe1d24bd57f",
      "e9ad39b3efe646ba9045009616b09cc4"
     ]
    },
    "executionInfo": {
     "elapsed": 20,
     "status": "ok",
     "timestamp": 1744102493695,
     "user": {
      "displayName": "andrew obando",
      "userId": "17747211217167821217"
     },
     "user_tz": -180
    },
    "id": "5LvzE6coTf5v",
    "outputId": "04e80322-6a6d-4ad2-f677-1b9ba5dea563"
   },
   "outputs": [],
   "source": [
    "#login to huggingface with access token\n",
    "\n",
    "notebook_login()"
   ]
  },
  {
   "cell_type": "code",
   "execution_count": null,
   "metadata": {
    "colab": {
     "base_uri": "https://localhost:8080/",
     "height": 276,
     "referenced_widgets": [
      "7e54bdc478c042619d1a52411b1ad042",
      "42d207bd561b45459f808083f2565d0a",
      "4fd0a0906e514720bc97d1029dd025d3",
      "52b4118ece1546b0ac2cdcae641b4f8a",
      "37faf0be6e6040f8a212c6feb7fbaa16",
      "f294d34cb24d4ad490f42b1249ae7d52",
      "c85ff2c4709945e29829f377c7506b5b",
      "d8538c7dfa73499ea4fecbc72e15798a",
      "736dff65eac240e3a5cdedf5fdeaaa15",
      "680527febfd0493e8e9f81df53297cad",
      "d415ba2d42a34acf8cf6066f9b9f5129",
      "6224f508a7084a3e87c17b31a3fc94ce",
      "88deebc6b78842eeae015854f0c71123",
      "ca840d01771348db965222552a4b80d1",
      "49902adb59964771887cceefbe29a35f",
      "2d56c836eaa74dbc8a42e0d7b27f4863",
      "7bbd7e7b989d453089cae43eec6cecce",
      "e3a4839329d242fcb4d7eb992aab1fcd",
      "52e5c92b135846dfbda966f1315dfddb",
      "eb3370e9d7e347089b9a4cc70a0ead13",
      "c0bfe8e5af5549179d0ff3f1c82cd5ab",
      "b3c733ce5463442fbc43c9464283199b",
      "2ef3aeb5717e47529de43b9a34d9b92c",
      "4775b7309f1d4ca3a33247471ec9219b",
      "ac7b0bcb59d24ac0af643959a0452d57",
      "ff5014d73a76471781df298e1f46e1c0",
      "4c0f298bc3c34fc19ffa2b3f858f6e88",
      "34c792c36d364688853646db137f83f1",
      "8a530a7c01ee4f2b9d84f30ee5b49d31",
      "45fbeb079eb442fca8f27d0af87f4c03",
      "ec1b0ef78e9643dcad84c7ac74fd885e",
      "d29eb1ec680a4c36b0cbee69fc9faac8",
      "0a49968e9d11421eae5a67f6bf5199d1",
      "238e02acd1784002bf77109ca5ffabdd",
      "ccfb31a4b311429babcf3bd592e6e81e",
      "90464a778d374f44bb15744f474b4642",
      "2bc6841fb1a4408c8fe6879ce2c5c5dd",
      "c5b7ecb902654f7a87ae9e345adbe6f0",
      "1b04fbaf882c44ff9dd544e042c732a6",
      "d11ced05ea0f48ecb933b583064a77aa",
      "b1bde191000c489386c84e3f853463ab",
      "67700a9d20c54c8fa52ceed631fedf35",
      "b8a41f227f444452805c73ecfa905eb9",
      "0e7f618137d544d5937d733e6f3339c6"
     ]
    },
    "executionInfo": {
     "elapsed": 2906,
     "status": "ok",
     "timestamp": 1744102496596,
     "user": {
      "displayName": "andrew obando",
      "userId": "17747211217167821217"
     },
     "user_tz": -180
    },
    "id": "KJSHTOkQSkhR",
    "outputId": "95869ab5-4003-41ad-9b49-6b7faba26797"
   },
   "outputs": [],
   "source": [
    "warnings.filterwarnings(\"ignore\", category=FutureWarning)\n",
    "\n",
    "nlp = f\"cardiffnlp/twitter-roberta-base-sentiment-latest\"\n",
    "tokenizer = AutoTokenizer.from_pretrained(nlp)"
   ]
  },
  {
   "cell_type": "code",
   "execution_count": null,
   "metadata": {
    "executionInfo": {
     "elapsed": 3,
     "status": "ok",
     "timestamp": 1744102496603,
     "user": {
      "displayName": "andrew obando",
      "userId": "17747211217167821217"
     },
     "user_tz": -180
    },
    "id": "skleONJ1VIx6"
   },
   "outputs": [],
   "source": [
    "def transform_labels(label):\n",
    "\n",
    "    label = label['label']\n",
    "    num = 0\n",
    "    if label == -1: #'Negative'\n",
    "        num = 0\n",
    "    elif label == 0: #'Neutral'\n",
    "        num = 1\n",
    "    elif label == 1: #'Positive'\n",
    "        num = 2\n",
    "\n",
    "    return {'labels': num}"
   ]
  },
  {
   "cell_type": "code",
   "execution_count": null,
   "metadata": {
    "executionInfo": {
     "elapsed": 4,
     "status": "ok",
     "timestamp": 1744102496608,
     "user": {
      "displayName": "andrew obando",
      "userId": "17747211217167821217"
     },
     "user_tz": -180
    },
    "id": "o03xHUINUMfB"
   },
   "outputs": [],
   "source": [
    "# Function to tokenize data\n",
    "\n",
    "def tokenize_data(example):\n",
    "    return tokenizer(example['text'], padding=True, max_length = 'max_length')"
   ]
  },
  {
   "cell_type": "code",
   "execution_count": null,
   "metadata": {
    "colab": {
     "base_uri": "https://localhost:8080/",
     "height": 202,
     "referenced_widgets": [
      "f36360657012441e80eca9be90496592",
      "28e55e917ef741a18710d89d0f65b3ad",
      "2c5eecdf7ffd4939834d0ada1424b69f",
      "6a084537508644b298bedbbd472abbca",
      "36718005dc364aaa969d1c277f39a910",
      "6fd05a09fee7490e8f46afa98ba4d1d2",
      "d7da2263d70f469bb56b78fd5dc44074",
      "cd0f3130f46c477895fa5e973a55cb2e",
      "b9e33dd64ca9490695599cfb6a586372",
      "0796be707b79409ca278ce550f6a753e",
      "4c5ca159eb8f43f0a5928567cd87ac9d",
      "a1f35796c1524193b1519b8dcb484800",
      "a144244e329c4de7b29ea2a36a286dc5",
      "361190b6d82d452b942bce8acb8773f3",
      "e98281aa94494cf5a64807490984d33d",
      "4bbc177e043340b281aa48fed944256b",
      "02632a45e6f241018a73b5305c5d8472",
      "e98990780e4d4d5fb1808fdcf67e0dfb",
      "ee45346c44674c9f8669cea9cc5e0d1d",
      "ba429b075e3541e89f3241b0d43f8cb5",
      "40981a7262db40dd925a8c8c0de760d3",
      "0957d8db8f29416fba66560aae02a1f7",
      "40488ad07ed640638a43d2d3d47a6cfe",
      "fc0005677537474088f954d975999be5",
      "b1016a5fe0fe4542aeb4282ef9e8c7c6",
      "eb718f1dccdb483d9fa7fceb7d83af6a",
      "fba107fbc8e540428a70252a52311759",
      "9f9c665d9d024d679f3f1e9d891a5877",
      "0beaa18a248b4706bf9b53d1cb43aa9a",
      "bc32c7e52fba441cbf63fc7f0ecb0f0f",
      "edf4e9928c9f425389174143ac15606a",
      "2119943d468544a7aad9949c38f9a281",
      "a2baf4a67e614d2ea7d941791baee6d2",
      "506824afadb74adeb623ef3942e465fd",
      "01e4adde6b82405ca7b58921b23891c8",
      "aa36bead14164023b4ecc13a7938f5f0",
      "31b2bcf9eaa74687b67f195f1d0be311",
      "65d55aba53a0465d894982ad9cf11099",
      "6d0188eb395d4abc9c3996b4e84048f7",
      "8d1e328ab08e4398aca04634519dd416",
      "5c06966ff665483fb93e2b7b3bd32975",
      "73de7ca3d7a24be4b0bc25dffc89380b",
      "e669ee36993044f499b04085e00e3b96",
      "f0da0e05cb2b43eda37a78b4c600d8df"
     ]
    },
    "executionInfo": {
     "elapsed": 687,
     "status": "ok",
     "timestamp": 1744102497330,
     "user": {
      "displayName": "andrew obando",
      "userId": "17747211217167821217"
     },
     "user_tz": -180
    },
    "id": "oovzsl8jUlqG",
    "outputId": "7344c11a-d7bb-4c35-c443-ab6361493fbc"
   },
   "outputs": [],
   "source": [
    "# Change the tweets to tokens that the model can use\n",
    "dataset = dataset.map(tokenize_data, batched=True)\n",
    "\n",
    "# Transform\tlabels and remove the useless columns\n",
    "remove_columns = ['label', 'text']\n",
    "dataset = dataset.map(transform_labels, remove_columns=remove_columns)"
   ]
  },
  {
   "cell_type": "code",
   "execution_count": null,
   "metadata": {
    "colab": {
     "base_uri": "https://localhost:8080/"
    },
    "executionInfo": {
     "elapsed": 9,
     "status": "ok",
     "timestamp": 1744102497341,
     "user": {
      "displayName": "andrew obando",
      "userId": "17747211217167821217"
     },
     "user_tz": -180
    },
    "id": "l_meiLHYVwws",
    "outputId": "323bdc41-3f39-4948-a609-eaf68604a5c3"
   },
   "outputs": [],
   "source": [
    "dataset"
   ]
  },
  {
   "cell_type": "markdown",
   "metadata": {
    "id": "VZDaXG2vYX5a"
   },
   "source": [
    "#### Balancing Target Classes\n",
    "\n",
    "Since our target has imbalanced class weights (positive, neutral and negative dont have an equal number of samples), we want to give more weight to underrepresented classes and give less weight to classes with more samples."
   ]
  },
  {
   "cell_type": "code",
   "execution_count": null,
   "metadata": {
    "executionInfo": {
     "elapsed": 21,
     "status": "ok",
     "timestamp": 1744102497364,
     "user": {
      "displayName": "andrew obando",
      "userId": "17747211217167821217"
     },
     "user_tz": -180
    },
    "id": "ewl8fmQVYYjU"
   },
   "outputs": [],
   "source": [
    "# Define the labels\n",
    "labels = dataset['train']['labels']\n",
    "\n",
    "# Apply the compute class weight function to calculate the class weight\n",
    "class_weights = compute_class_weight('balanced', classes=np.unique(labels), y=labels)"
   ]
  },
  {
   "cell_type": "markdown",
   "metadata": {
    "id": "znVYAH6UYkVP"
   },
   "source": [
    "The `balanced` option in compute_class_weight will calculate weights such that the classes are balanced."
   ]
  },
  {
   "cell_type": "code",
   "execution_count": null,
   "metadata": {
    "colab": {
     "base_uri": "https://localhost:8080/"
    },
    "executionInfo": {
     "elapsed": 10,
     "status": "ok",
     "timestamp": 1744102497380,
     "user": {
      "displayName": "andrew obando",
      "userId": "17747211217167821217"
     },
     "user_tz": -180
    },
    "id": "5D5T3mdFYk0q",
    "outputId": "adae265f-3b49-4f84-eb58-2552fe717b07"
   },
   "outputs": [],
   "source": [
    "# Preview class weights\n",
    "class_weights, np.unique(labels)"
   ]
  },
  {
   "cell_type": "code",
   "execution_count": null,
   "metadata": {
    "colab": {
     "base_uri": "https://localhost:8080/",
     "height": 161,
     "referenced_widgets": [
      "13117cf519ad4d39b29b09e65a94a380",
      "bfa8d76b2e004cc19de4d0b33f81ebdb",
      "0fe3b73a5155432b905796f3908e2f14",
      "627c26f5734f49bd973bf330d458cf8d",
      "922e4663d7e64ca0875866d2d7458d32",
      "d5b7486d31bc434aa4c217ed6cfd5f19",
      "410166e4d7f44e2c88dc3b853f180691",
      "6b58606ed474452fbf94cff65ef7e615",
      "351732ab4629440fb8a54702efbe38e9",
      "a85001ae018e4351a54a25ff6d1b3e06",
      "6d29bc670b734706a96c20a36778ff46"
     ]
    },
    "executionInfo": {
     "elapsed": 4974,
     "status": "ok",
     "timestamp": 1744102502355,
     "user": {
      "displayName": "andrew obando",
      "userId": "17747211217167821217"
     },
     "user_tz": -180
    },
    "id": "U1cybVoYYtU6",
    "outputId": "29e4bc13-78d1-4784-bd85-836bdc325016"
   },
   "outputs": [],
   "source": [
    "# Define an instance of the pre-trained model with the number of labels\n",
    "model = AutoModelForSequenceClassification.from_pretrained(nlp, num_labels=3)"
   ]
  },
  {
   "cell_type": "code",
   "execution_count": null,
   "metadata": {
    "executionInfo": {
     "elapsed": 164,
     "status": "ok",
     "timestamp": 1744102502521,
     "user": {
      "displayName": "andrew obando",
      "userId": "17747211217167821217"
     },
     "user_tz": -180
    },
    "id": "aHbY2eXmaPNh"
   },
   "outputs": [],
   "source": [
    "# Configure the training parameters\n",
    "\n",
    "training_args = TrainingArguments(\"Coachella_sentiment_analysis_roberta\",\n",
    "    num_train_epochs=5, # the number of times the model will repeat the training loop over the dataset\n",
    "    load_best_model_at_end=True,\n",
    "    evaluation_strategy='epoch',\n",
    "    save_strategy='epoch',)"
   ]
  },
  {
   "cell_type": "code",
   "execution_count": null,
   "metadata": {
    "colab": {
     "base_uri": "https://localhost:8080/",
     "height": 106,
     "referenced_widgets": [
      "a70fa8cdeac949768a65b7ec11436629",
      "0fb9502f035044549f6065a71715c22a",
      "a50d50c7945540409ee1c6b4642ddb53",
      "3f7d6f3358f84806ae92117d827905a1",
      "b42865f1057f4015985f758b4802bad7",
      "2c749af0b87e4bf0be11bf1846b33cda",
      "91da019820f946d1a3f4e3f21a45aa6a",
      "8cd2f6a92c554e2cbd5770bf2a57e291",
      "0eb22963aa7846f5bb805c4f838e3b06",
      "68ad1c7f878145249dc12d0ceb1757e7",
      "b28c7e69874146c688ffe52f489fbb22"
     ]
    },
    "executionInfo": {
     "elapsed": 20,
     "status": "ok",
     "timestamp": 1744102502540,
     "user": {
      "displayName": "andrew obando",
      "userId": "17747211217167821217"
     },
     "user_tz": -180
    },
    "id": "rLv_XcUxdINX",
    "outputId": "d2db1847-194d-44c2-9aa8-8fdaac325dcf"
   },
   "outputs": [],
   "source": [
    "# evaluation metrics\n",
    "metric = load(\"accuracy\")\n",
    "\n",
    "def compute_metrics(eval_pred):\n",
    "    logits, labels = eval_pred\n",
    "    predictions = np.argmax(logits, axis=-1)\n",
    "    return metric.compute(predictions=predictions, references=labels)"
   ]
  },
  {
   "cell_type": "code",
   "execution_count": null,
   "metadata": {
    "executionInfo": {
     "elapsed": 17,
     "status": "ok",
     "timestamp": 1744102502558,
     "user": {
      "displayName": "andrew obando",
      "userId": "17747211217167821217"
     },
     "user_tz": -180
    },
    "id": "TZL6wMEpdjgy"
   },
   "outputs": [],
   "source": [
    "# Instantiate the training and validation sets with random state of 10\n",
    "train_dataset = dataset['train'].shuffle(seed=10)\n",
    "eval_dataset = dataset['eval'].shuffle(seed=10)"
   ]
  },
  {
   "cell_type": "code",
   "execution_count": null,
   "metadata": {
    "executionInfo": {
     "elapsed": 78,
     "status": "ok",
     "timestamp": 1744102502621,
     "user": {
      "displayName": "andrew obando",
      "userId": "17747211217167821217"
     },
     "user_tz": -180
    },
    "id": "HkcTYp4ednpu"
   },
   "outputs": [],
   "source": [
    "# Convert train data to PyTorch tensors to speed up training and add padding\n",
    "data_collator = DataCollatorWithPadding(tokenizer=tokenizer,padding=True, max_length='max_length', return_tensors='pt')"
   ]
  },
  {
   "cell_type": "code",
   "execution_count": null,
   "metadata": {
    "executionInfo": {
     "elapsed": 72,
     "status": "ok",
     "timestamp": 1744102502623,
     "user": {
      "displayName": "andrew obando",
      "userId": "17747211217167821217"
     },
     "user_tz": -180
    },
    "id": "D2JTFnW3dtDP"
   },
   "outputs": [],
   "source": [
    "# Define Custom Trainer | Modify loss function and assign computed weights\n",
    "class CustomTrainer(Trainer):\n",
    "    def compute_loss(self, model, inputs, return_outputs=False, num_items_in_batch=None):\n",
    "        labels = inputs.get(\"labels\")\n",
    "        # forward pass\n",
    "        outputs = model(**inputs)\n",
    "        logits = outputs.get(\"logits\")\n",
    "\n",
    "        # Ensure logits and labels have compatible shapes\n",
    "        assert logits.shape[1] == self.model.config.num_labels, f\"Logits shape {logits.shape} does not match number of labels {self.model.config.num_labels}\"\n",
    "        assert labels.max() < self.model.config.num_labels, f\"Labels contain values outside the valid range: {labels}\"\n",
    "\n",
    "        # Ensure labels are of integer type\n",
    "        assert labels.dtype == torch.long, f\"Labels must be of type torch.long, but got {labels.dtype}\"\n",
    "\n",
    "        class_weights_tensor = torch.tensor(class_weights, dtype=torch.float32).to(model.device)\n",
    "\n",
    "        # Compute custom loss\n",
    "        loss_fct = nn.CrossEntropyLoss(weight=class_weights_tensor)\n",
    "        loss = loss_fct(logits.view(-1, self.model.config.num_labels), labels.view(-1))\n",
    "        return (loss, outputs) if return_outputs else loss"
   ]
  },
  {
   "cell_type": "code",
   "execution_count": null,
   "metadata": {
    "colab": {
     "base_uri": "https://localhost:8080/",
     "height": 49,
     "referenced_widgets": [
      "d3ff05d85ce940308104d7499321100d",
      "d7e77950ae35436e9d7757dec098ffdc",
      "d3f32f0fc8f647f2b6f9c9c3507a4a9b",
      "223c68352817448aac96b5255c3ad8c4",
      "419a12a146d04ac88c19dfbe755b8efa",
      "bea1be2dd7f848d5a145d230fa2f4ff3",
      "af3eb51064f24b10a29d34b2edd96db7",
      "c4fdd0b5386f411ab202dd0f33ac00b4",
      "0a4af4b062b8433eb9cfc2da4f2fc2ad",
      "f912e4d409424c338e51c3c51d69f9c9",
      "39922473d13d40369c57974b84bf290a"
     ]
    },
    "executionInfo": {
     "elapsed": 6457,
     "status": "ok",
     "timestamp": 1744102509012,
     "user": {
      "displayName": "andrew obando",
      "userId": "17747211217167821217"
     },
     "user_tz": -180
    },
    "id": "F0u4v8Xld07j",
    "outputId": "ce139a13-49be-412c-c17f-d24d7648be4c"
   },
   "outputs": [],
   "source": [
    "# Instantiate the trainer for training\n",
    "c_trainer = CustomTrainer(\n",
    "                  model=model,\n",
    "                  args=training_args,\n",
    "                  train_dataset=train_dataset,\n",
    "                  eval_dataset=eval_dataset,\n",
    "                  tokenizer = tokenizer,\n",
    "                  compute_metrics=compute_metrics,\n",
    ")"
   ]
  },
  {
   "cell_type": "code",
   "execution_count": null,
   "metadata": {
    "colab": {
     "base_uri": "https://localhost:8080/",
     "height": 596
    },
    "executionInfo": {
     "elapsed": 380885,
     "status": "ok",
     "timestamp": 1744102889906,
     "user": {
      "displayName": "andrew obando",
      "userId": "17747211217167821217"
     },
     "user_tz": -180
    },
    "id": "In3ct-jld9nK",
    "outputId": "be099a04-7857-47dc-8d4d-27d433facf27"
   },
   "outputs": [],
   "source": [
    "# Launch the learning process: training\n",
    "c_trainer.train()"
   ]
  },
  {
   "cell_type": "code",
   "execution_count": null,
   "metadata": {
    "colab": {
     "base_uri": "https://localhost:8080/",
     "height": 148
    },
    "executionInfo": {
     "elapsed": 3712,
     "status": "ok",
     "timestamp": 1744102893608,
     "user": {
      "displayName": "andrew obando",
      "userId": "17747211217167821217"
     },
     "user_tz": -180
    },
    "id": "3_YbLR5NeAQy",
    "outputId": "1a035d1d-bacf-414b-f07e-32b74f92da6c"
   },
   "outputs": [],
   "source": [
    "# Launch the final evaluation\n",
    "c_trainer.evaluate()"
   ]
  },
  {
   "cell_type": "code",
   "execution_count": null,
   "metadata": {
    "colab": {
     "base_uri": "https://localhost:8080/",
     "height": 315,
     "referenced_widgets": [
      "a3c5a652780642f1bf8ab8ab34048641",
      "18178728d96a4cbda0ad3659bf4948a2",
      "fb01dff2c39a47ecab3850e4821a1789",
      "06fbdd070ef248af8e295adcb1de5533",
      "766cad428b2c48a4a4d436c6059e6b44",
      "92c4904adda842a78555be434a7f6c34",
      "fec5bd3eb7ce4377b5614106abaa7b3b",
      "d60b7be5365d4ac28f5eea30adc9a5d8",
      "4b68f6f777c646dfa7b6abdb5c513ce1",
      "5e5fc522366a483fa503b9523c534eac",
      "a1f9fc76f3c04f4690f4344f0fe06789",
      "e5d65b1c1e364bbaaaa3eda0a2eae85d",
      "6ec7c4bddc29435c9c41fef2cfd7fe44",
      "db0148bba65b4b4698b2ac9aa6d5b9e7",
      "a2f8d022498244afb9297bd6a545a047",
      "fd3218a353e14bdcb455bb508e958a4e",
      "95bf4cc9d6f04f44a5080c22baf8830a",
      "1555b6b8677b47248d9bd05d48d09d13",
      "de800da1d14141019d32ddff0f3d5de2",
      "4a9b3bbf0a684e97aff5bb1ca2854f9e",
      "7cf4798da33745949afadc9b4d1ee75b",
      "f28c44b59e2046c38e05157f5eeeb590",
      "bfe009e80450434b8b3141c627ed4630",
      "0c46340bec1c429db796f1bfbe0dba82",
      "eb80e0c063ee45f6ac899d9f333a847e",
      "6543919ad5ee484f88d85e5126308862",
      "91d220633dd843938125c65947678954",
      "8c0d7f63a78e4ef5935471be5ca502d1",
      "089258f9828247488c03d6bc5f21c76f",
      "361811fad2a84295aa52cd5382fe7065",
      "e4794bc8078e43598c5575c7d61ae9b3",
      "953deda4945b41eca43cd1c5fc001cfb",
      "c659ca4dee514c70a75e375d63e0cd32",
      "45f3715fa632400c94fccc8a9bf4c009",
      "c7bf25c6638143f9b9169f7d7b88ade1",
      "c02b3c445b8d43d390630f80d1d6a63f",
      "19502fa0c3e944958cd77055b928f1e5",
      "be323f42a767444da1b13e29bd678fae",
      "6f6164e03a69487fad0c1233149a6169",
      "9a530d79756b4147b225588513f31c31",
      "0feeaa0e9b37463198423d922c7f23f9",
      "8229fbfef075443bba95dc1835141a99",
      "9b25ecaf3ffa43e2808244b3626b3654",
      "80ede2c2d5064fa2a48334cc3be61e7c",
      "2c8d4e9cd98147ac8d256e3601265f86",
      "fe22076b52f9499a8bcb6044319a5111",
      "dd601b6b2ae540acb1ffa6216b1cb39a",
      "62f37cf47aa44cf8a97c730ae6cafda0",
      "636882c9be054c57a3337b5c652dd21b",
      "310261917dd1483a926d27eacccd7017",
      "b4f0c13044fd4905862ac3399efaa8d1",
      "2141bc92ce1b426681c749ffc6b27b9e",
      "07c339304d0748428ae5da8be61ea8f5",
      "2b701cb41c744dcfab71726888304378",
      "8133699466694cf481d33c80216c2fbd",
      "0c52dd0d4f9e49f38d4327e09899dee2",
      "a376730a6be746918774fbdbed3bb4fe",
      "fef1b2496bc74e13b4f95c29dfe06ef6",
      "45542581607d401594f4fa22336429aa",
      "5dd3367ef24846d6a5efaf13bd56fcf1",
      "67a4ac9dcc7d425890dd8a7dbcdfc98f",
      "4c25d8d35bcb4feda2dccfea55d3f8b5",
      "3fd479c14e644c43a35b52e14d4f6c67",
      "bba1cc1a730a4ad3ae4f1aa102d07801",
      "88d4a94c79a445bdaec76b3b02777ebb",
      "dbbb2a289971484b8fe273eb78f47810",
      "53aae620b47e44ddac6066868a380a9a",
      "a4afe89f469c4e4fab25af275a9eefb4",
      "a8a72611e00e480aacc0eb51ef521e5f",
      "7d0b6c8edf3f47a7889cc9f64a7f3993",
      "6847bce318ba4d89a49230d7b4a28801",
      "e16bcb10952d4592af93d65b92e5982b",
      "7dbd986665d7420280eb8cb0b8f05a0c",
      "5b0e9a5006644c5989c7e539c2fd6e0d",
      "aeb8615b58444af7aa1ce8a3d76f9612",
      "02c058b9483b401cac8e2b0f7d4b7840",
      "e061fe8b14bb4831b5d9644a372fd6ee"
     ]
    },
    "executionInfo": {
     "elapsed": 34797,
     "status": "ok",
     "timestamp": 1744103189683,
     "user": {
      "displayName": "andrew obando",
      "userId": "17747211217167821217"
     },
     "user_tz": -180
    },
    "id": "bVmQkSGFsxNk",
    "outputId": "9a61b101-e578-4c83-8924-391e10c36429"
   },
   "outputs": [],
   "source": [
    "# Push model and tokenizer to HF Hub\n",
    "model.push_to_hub(\"Azie88/Coachella_sentiment_analysis_roberta\")\n",
    "tokenizer.push_to_hub(\"Azie88/Coachella_sentiment_analysis_roberta\")\n",
    "dataset.push_to_hub(\"Azie88/Coachella_sentiment_analysis_roberta\")"
   ]
  },
  {
   "cell_type": "markdown",
   "metadata": {
    "id": "khQRfj9RtGfE"
   },
   "source": [
    "This notebook is inspired by an article: [Fine-Tuning Bert for Tweets Classification ft. Hugging Face](https://medium.com/mlearning-ai/fine-tuning-bert-for-tweets-classification-ft-hugging-face-8afebadd5dbf)"
   ]
  },
  {
   "cell_type": "markdown",
   "metadata": {
    "id": "SsiRxogqtKuK"
   },
   "source": [
    "## Inference\n",
    "Let's test out our model with with some sample text"
   ]
  },
  {
   "cell_type": "code",
   "execution_count": null,
   "metadata": {
    "colab": {
     "base_uri": "https://localhost:8080/",
     "height": 241,
     "referenced_widgets": [
      "abf9df5ffb464edb8a0715ca56d229f2",
      "f86fc84a2ad241cf859547be90ab6282",
      "96d8cddf62da430aa4a6c1ea1450727d",
      "4a8a96101d6e4a22bde3e0f5c2aca86c",
      "5a4480b941e84a63ad3047d71d854e67",
      "4c3c478f9e374377ab1ed8e775e25259",
      "7c91f90d63cc4ff19d35c9bbfe297e22",
      "b178296f79d348bcb143116859d6b629",
      "8cd048188f084f49999d0f940c59391d",
      "752907807b9b4596951b15fc0aa87c14",
      "0d8e05cf479a4a049366f710e43c8208",
      "384c6960ea40407e9fc7876ba23fde52",
      "269ae9c86e624aeb8df17b6a0fdc7b82",
      "64b3550b647d4c6bb2f975c3f30ac4a7",
      "9d2454fd095848ea8b8bac89f9f232d5",
      "46184cb7f9754b048a8dbee4bf41a1dd",
      "d28a6faf959e4869a784a879b86d0d9d",
      "63f0ad7062b444458131402ba5f365a5",
      "201b87b796a94ec7986891090041715c",
      "40401fbded2d4324a383b959421ef038",
      "2250d92fa59c423ba0c0224caed82ff7",
      "1fc38a1dd8814e65b1ade89e8025a5c9",
      "5e7418894aab4fe192a6eac27c628bee",
      "dc32f804251845579fb6cfde08b151a5",
      "bd8599d57d78437eb9202189d9b3d93c",
      "0bb3ad5bb8224037946985d0cbdb5d44",
      "07762c54bea842fa841e146948acad1b",
      "723a6226933f4a809e6aa6912ff1dcb6",
      "ab5a1dce8d004f50a0d865bd6b8dce24",
      "cd55f2f72aa44699b839fc5f20e10572",
      "92121d78cd024a6680a09d03c0ed63ef",
      "144a615583d54182815cecd7655ffc1e",
      "e279f1d675b04ea0b1db28e9da45ffc3",
      "214f0cef52d649c6a0227cfe597be35d",
      "9af914ccce8d45b38af6618639ead687",
      "8569ca51f9554e39bb47eb0fccf99d87",
      "8a3b2100926246638f8b22312e2d6e89",
      "8d67489fb1084a6d8c0984ac5319bc21",
      "3fa963e297d443a68d132af69d08cfed",
      "644c24e493dd46719224a051e82d166e",
      "58e7765143ae40fab17fb8adc07a3bd2",
      "f78f287aa0d34b4499df0c836e000f80",
      "b5c3250ec2ec4f6cb5b564c66d670f7d",
      "0cb47189b68940b2b786b72e91d46fd0",
      "1efba9170c2d4b50b161b25f86bd3600",
      "c9132f31449c4238a36bbcb34e462d89",
      "753c6cbcc0ab4e99aab1cb161885a326",
      "ceadda0290a74771be9cfd75b585e525",
      "902b177c198d4320816bfc20dfcf7db5",
      "2b49ed36681d420294349fce989376b1",
      "27e86eeceea146e5af0e452f6e0bdfe2",
      "771cdbb778a5430182094e41f651f0f4",
      "90458d7cd73d4ad098c3333976526d7e",
      "5cdf7cec3d3d41a5861ccb994fbe6580",
      "184752258c504721842c70720b469ce9",
      "98fbfab38fb545fe94304a512b1a4f3d",
      "4ac3a4fe4f6a4576b61d1c64c7f90654",
      "84dbb8e5648f441a962283f8d6881b40",
      "c3954fe144944c67883bda9a0c02e185",
      "fa9595d888a94ffeb70970a0bd860522",
      "9b20ad45e34f40b98da0f9ee29f04cf8",
      "d4c022adedb244efbf9700d7271d0a04",
      "e7096c726ead4521934bb77b04b03531",
      "b03a8446de294b1ba28ad411648a4dc4",
      "7a0774ffbacf40d6b52892cd5fb61750",
      "88179cd8bc4c40ba938835fb894f11a4",
      "cf0d0c741eb44bad97524f1a3f6b7d43",
      "2c94e176c8d14a78bed4dda81e58b696",
      "e550cab4e99c48f28417fd1f658a4acf",
      "2b307382d93c444c92c82111ce99cd00",
      "9a6347aad8204badb99791cc33e1b464",
      "55b2141a37504bac996481d0b5e166c5",
      "f83993656e6e469c93843ac84789b194",
      "0bc94154d4e94ea2937bbc22bd83eec4",
      "591ba7cdbbf54b549d037a01f3f690df",
      "51833fa25a0144948c7fe7a1519e78c2",
      "f027d1dea0c843c09cfeacda63700cc4"
     ]
    },
    "executionInfo": {
     "elapsed": 13775,
     "status": "ok",
     "timestamp": 1744103232293,
     "user": {
      "displayName": "andrew obando",
      "userId": "17747211217167821217"
     },
     "user_tz": -180
    },
    "id": "AAuc0l1ytHD0",
    "outputId": "f62491ea-ec81-4f29-b20b-99d9a5881b29"
   },
   "outputs": [],
   "source": [
    "model_path = f\"Azie88/Coachella_sentiment_analysis_roberta\"\n",
    "\n",
    "tokenizer = AutoTokenizer.from_pretrained(model_path)\n",
    "config = AutoConfig.from_pretrained(model_path)\n",
    "model = AutoModelForSequenceClassification.from_pretrained(model_path)"
   ]
  },
  {
   "cell_type": "code",
   "execution_count": null,
   "metadata": {
    "executionInfo": {
     "elapsed": 303,
     "status": "ok",
     "timestamp": 1744103233686,
     "user": {
      "displayName": "andrew obando",
      "userId": "17747211217167821217"
     },
     "user_tz": -180
    },
    "id": "5gq9pz7juKXv"
   },
   "outputs": [],
   "source": [
    "# Preprocess text (username and link placeholders)\n",
    "def preprocess(text):\n",
    "    new_text = []\n",
    "    for t in text.split(\" \"):\n",
    "        t = '@user' if t.startswith('@') and len(t) > 1 else t\n",
    "        t = 'http' if t.startswith('http') else t\n",
    "        new_text.append(t)\n",
    "    return \" \".join(new_text)"
   ]
  },
  {
   "cell_type": "code",
   "execution_count": null,
   "metadata": {
    "executionInfo": {
     "elapsed": 31,
     "status": "ok",
     "timestamp": 1744103239035,
     "user": {
      "displayName": "andrew obando",
      "userId": "17747211217167821217"
     },
     "user_tz": -180
    },
    "id": "rht1gUK2uMdC"
   },
   "outputs": [],
   "source": [
    "# Input preprocessing\n",
    "text = \"that saturday lineup is fire, except for Jack White\"\n",
    "text = preprocess(text)"
   ]
  },
  {
   "cell_type": "code",
   "execution_count": null,
   "metadata": {
    "executionInfo": {
     "elapsed": 512,
     "status": "ok",
     "timestamp": 1744103244197,
     "user": {
      "displayName": "andrew obando",
      "userId": "17747211217167821217"
     },
     "user_tz": -180
    },
    "id": "8oJOTtUuuXIv"
   },
   "outputs": [],
   "source": [
    "# PyTorch-based models\n",
    "encoded_input = tokenizer(text, return_tensors='pt')\n",
    "output = model(**encoded_input)\n",
    "scores = output[0][0].detach().numpy()\n",
    "scores = softmax(scores)"
   ]
  },
  {
   "cell_type": "code",
   "execution_count": null,
   "metadata": {
    "colab": {
     "base_uri": "https://localhost:8080/"
    },
    "executionInfo": {
     "elapsed": 38,
     "status": "ok",
     "timestamp": 1744103248387,
     "user": {
      "displayName": "andrew obando",
      "userId": "17747211217167821217"
     },
     "user_tz": -180
    },
    "id": "7IJHRm8ruZfE",
    "outputId": "27468dc0-1327-4356-b7cb-7f86f97cb826"
   },
   "outputs": [],
   "source": [
    "print(\"Scores:\", scores)\n",
    "print(\"id2label Dictionary:\", config.id2label)"
   ]
  },
  {
   "cell_type": "code",
   "execution_count": null,
   "metadata": {
    "executionInfo": {
     "elapsed": 36,
     "status": "ok",
     "timestamp": 1744103252856,
     "user": {
      "displayName": "andrew obando",
      "userId": "17747211217167821217"
     },
     "user_tz": -180
    },
    "id": "kJaOfgQ3uc-6"
   },
   "outputs": [],
   "source": [
    "config.id2label = {0: 'NEGATIVE', 1: 'NEUTRAL', 2: 'POSITIVE'}"
   ]
  },
  {
   "cell_type": "code",
   "execution_count": null,
   "metadata": {
    "colab": {
     "base_uri": "https://localhost:8080/"
    },
    "executionInfo": {
     "elapsed": 165,
     "status": "ok",
     "timestamp": 1744103257640,
     "user": {
      "displayName": "andrew obando",
      "userId": "17747211217167821217"
     },
     "user_tz": -180
    },
    "id": "Imes3klbuftx",
    "outputId": "cf3f3797-72dd-4a41-b70c-ebe0ee917434"
   },
   "outputs": [],
   "source": [
    "# Print labels and scores\n",
    "ranking = np.argsort(scores)\n",
    "ranking = ranking[::-1]\n",
    "for i in range(scores.shape[0]):\n",
    "    l = config.id2label[ranking[i]]\n",
    "    s = scores[ranking[i]]\n",
    "    print(f\"{i+1}) {l} {np.round(float(s), 4)}\")"
   ]
  }
 ],
 "metadata": {
  "accelerator": "GPU",
  "colab": {
   "gpuType": "T4",
   "provenance": []
  },
  "kernelspec": {
   "display_name": "Python 3",
   "name": "python3"
  },
  "language_info": {
   "name": "python"
  }
 },
 "nbformat": 4,
 "nbformat_minor": 0
}
